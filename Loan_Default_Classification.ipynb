{
  "nbformat": 4,
  "nbformat_minor": 0,
  "metadata": {
    "colab": {
      "provenance": []
    },
    "kernelspec": {
      "name": "python3",
      "display_name": "Python 3"
    },
    "language_info": {
      "name": "python"
    }
  },
  "cells": [
    {
      "cell_type": "markdown",
      "source": [
        "# ***Loan Default Classification - Logistic Regression***"
      ],
      "metadata": {
        "id": "hc2ohCFMcH5i"
      }
    },
    {
      "cell_type": "markdown",
      "source": [
        "***Tools & Pre-requesites:***"
      ],
      "metadata": {
        "id": "j0WjcnTbdLc5"
      }
    },
    {
      "cell_type": "markdown",
      "source": [
        "1. Core - Python & Machine Learning (Logistics Classification Algorithm)\n",
        "2. IDE - Jupyter Notebook, Google Colab, Etc..,\n",
        "3. Loan Defaulter - Dataset (Taken from the Kaggle.com)\n",
        "4. Python.org - Download Python (latest version 3.11.3)\n",
        "5. pypi.org - Python Packages."
      ],
      "metadata": {
        "id": "Xm_Vxw9MdSOB"
      }
    },
    {
      "cell_type": "markdown",
      "source": [
        "****Classification Model****"
      ],
      "metadata": {
        "id": "OzGsFBludR-6"
      }
    },
    {
      "cell_type": "markdown",
      "source": [
        "**@ Install required Packages**"
      ],
      "metadata": {
        "id": "8TRfTTvIdRrU"
      }
    },
    {
      "cell_type": "code",
      "execution_count": null,
      "metadata": {
        "id": "xKSktqAtbJyO"
      },
      "outputs": [],
      "source": [
        "!pip install pandas                  # Data Manipulation & Data Defintion\n",
        "!pip install numpy                   # Mathmatical Operations\n",
        "!pip install matplotlib              # Data Visualization\n",
        "!pip install seaborn                 # Data Visualization\n",
        "!pip install sklearn                 # Machine Learning Algorithm Package"
      ]
    },
    {
      "cell_type": "markdown",
      "source": [
        "**@ Import Packages**"
      ],
      "metadata": {
        "id": "XF8ZWcdthJuK"
      }
    },
    {
      "cell_type": "code",
      "source": [
        "import pandas as pd\n",
        "import numpy as np\n",
        "import matplotlib.pyplot as plt\n",
        "get_ipython().run_line_magic('matplotlib', 'inline')\n",
        "import seaborn as sns\n",
        "from matplotlib.cm import get_cmap\n",
        "from sklearn import preprocessing\n",
        "from random import sample\n",
        "from sklearn.preprocessing import OrdinalEncoder\n",
        "import warnings # \n",
        "warnings.filterwarnings(\"ignore\")\n",
        "from sklearn.linear_model import LogisticRegression\n",
        "from sklearn.model_selection import train_test_split\n",
        "from sklearn.metrics import confusion_matrix, accuracy_score, classification_report\n",
        "from sklearn.metrics import roc_curve, roc_auc_score"
      ],
      "metadata": {
        "id": "LbEeAPROcOzY"
      },
      "execution_count": 149,
      "outputs": []
    },
    {
      "cell_type": "markdown",
      "source": [
        "**@ Import the Dataset**"
      ],
      "metadata": {
        "id": "HaKqAEPHhglI"
      }
    },
    {
      "cell_type": "code",
      "source": [
        "df = pd.read_csv('/content/drive/MyDrive/Loan Default.csv') # Imported the Dataset as df."
      ],
      "metadata": {
        "id": "vBqIOkk4hc7r"
      },
      "execution_count": 150,
      "outputs": []
    },
    {
      "cell_type": "markdown",
      "source": [
        "**@ Data Defintion**"
      ],
      "metadata": {
        "id": "AfBEWF27h70A"
      }
    },
    {
      "cell_type": "code",
      "source": [
        "df.info()          # Data Info or Description."
      ],
      "metadata": {
        "colab": {
          "base_uri": "https://localhost:8080/",
          "height": 0
        },
        "id": "M-bjPDhmhxAk",
        "outputId": "adc1f15c-9ec0-45f2-e304-4eb7a15d7ff4"
      },
      "execution_count": 80,
      "outputs": [
        {
          "output_type": "stream",
          "name": "stdout",
          "text": [
            "<class 'pandas.core.frame.DataFrame'>\n",
            "RangeIndex: 32581 entries, 0 to 32580\n",
            "Data columns (total 10 columns):\n",
            " #   Column                 Non-Null Count  Dtype  \n",
            "---  ------                 --------------  -----  \n",
            " 0   person_age             32581 non-null  int64  \n",
            " 1   person_income          32581 non-null  int64  \n",
            " 2   person_home_ownership  32581 non-null  object \n",
            " 3   person_emp_length      31686 non-null  float64\n",
            " 4   loan_intent            32581 non-null  object \n",
            " 5   loan_grade             32581 non-null  object \n",
            " 6   loan_amnt              32581 non-null  int64  \n",
            " 7   loan_int_rate          29465 non-null  float64\n",
            " 8   loan_status            32581 non-null  int64  \n",
            " 9   loan_percent_income    32581 non-null  float64\n",
            "dtypes: float64(3), int64(4), object(3)\n",
            "memory usage: 2.5+ MB\n"
          ]
        }
      ]
    },
    {
      "cell_type": "code",
      "source": [
        "print('Total_Columns: ', len(df.columns),'\\n')\n",
        "print(df.columns,'\\n')\n",
        "print('Shape :',df.shape)           # Data Size or Length (Row, Column)"
      ],
      "metadata": {
        "colab": {
          "base_uri": "https://localhost:8080/",
          "height": 0
        },
        "id": "zGe19_RLiKdp",
        "outputId": "b870877d-5329-4d9c-cfc4-278c04009744"
      },
      "execution_count": 81,
      "outputs": [
        {
          "output_type": "stream",
          "name": "stdout",
          "text": [
            "Total_Columns:  10 \n",
            "\n",
            "Index(['person_age', 'person_income', 'person_home_ownership',\n",
            "       'person_emp_length', 'loan_intent', 'loan_grade', 'loan_amnt',\n",
            "       'loan_int_rate', 'loan_status', 'loan_percent_income'],\n",
            "      dtype='object') \n",
            "\n",
            "Shape : (32581, 10)\n"
          ]
        }
      ]
    },
    {
      "cell_type": "code",
      "source": [
        "df.head(5)         # Dataset First 5 Lines. "
      ],
      "metadata": {
        "colab": {
          "base_uri": "https://localhost:8080/",
          "height": 206
        },
        "id": "A7cqtYXNiToI",
        "outputId": "5f5e367c-b0fa-4cd0-c21c-7b3ceb057a1f"
      },
      "execution_count": 82,
      "outputs": [
        {
          "output_type": "execute_result",
          "data": {
            "text/plain": [
              "   person_age  person_income person_home_ownership  person_emp_length  \\\n",
              "0          22          59000                  RENT              123.0   \n",
              "1          21           9600                   OWN                5.0   \n",
              "2          25           9600              MORTGAGE                1.0   \n",
              "3          23          65500                  RENT                4.0   \n",
              "4          24          54400                  RENT                8.0   \n",
              "\n",
              "  loan_intent loan_grade  loan_amnt  loan_int_rate  loan_status  \\\n",
              "0    PERSONAL          D      35000          16.02            1   \n",
              "1   EDUCATION          B       1000          11.14            0   \n",
              "2     MEDICAL          C       5500          12.87            1   \n",
              "3     MEDICAL          C      35000          15.23            1   \n",
              "4     MEDICAL          C      35000          14.27            1   \n",
              "\n",
              "   loan_percent_income  \n",
              "0                 0.59  \n",
              "1                 0.10  \n",
              "2                 0.57  \n",
              "3                 0.53  \n",
              "4                 0.55  "
            ],
            "text/html": [
              "\n",
              "  <div id=\"df-04dfa202-94fb-45b8-94c1-b6ec67e0a1f8\">\n",
              "    <div class=\"colab-df-container\">\n",
              "      <div>\n",
              "<style scoped>\n",
              "    .dataframe tbody tr th:only-of-type {\n",
              "        vertical-align: middle;\n",
              "    }\n",
              "\n",
              "    .dataframe tbody tr th {\n",
              "        vertical-align: top;\n",
              "    }\n",
              "\n",
              "    .dataframe thead th {\n",
              "        text-align: right;\n",
              "    }\n",
              "</style>\n",
              "<table border=\"1\" class=\"dataframe\">\n",
              "  <thead>\n",
              "    <tr style=\"text-align: right;\">\n",
              "      <th></th>\n",
              "      <th>person_age</th>\n",
              "      <th>person_income</th>\n",
              "      <th>person_home_ownership</th>\n",
              "      <th>person_emp_length</th>\n",
              "      <th>loan_intent</th>\n",
              "      <th>loan_grade</th>\n",
              "      <th>loan_amnt</th>\n",
              "      <th>loan_int_rate</th>\n",
              "      <th>loan_status</th>\n",
              "      <th>loan_percent_income</th>\n",
              "    </tr>\n",
              "  </thead>\n",
              "  <tbody>\n",
              "    <tr>\n",
              "      <th>0</th>\n",
              "      <td>22</td>\n",
              "      <td>59000</td>\n",
              "      <td>RENT</td>\n",
              "      <td>123.0</td>\n",
              "      <td>PERSONAL</td>\n",
              "      <td>D</td>\n",
              "      <td>35000</td>\n",
              "      <td>16.02</td>\n",
              "      <td>1</td>\n",
              "      <td>0.59</td>\n",
              "    </tr>\n",
              "    <tr>\n",
              "      <th>1</th>\n",
              "      <td>21</td>\n",
              "      <td>9600</td>\n",
              "      <td>OWN</td>\n",
              "      <td>5.0</td>\n",
              "      <td>EDUCATION</td>\n",
              "      <td>B</td>\n",
              "      <td>1000</td>\n",
              "      <td>11.14</td>\n",
              "      <td>0</td>\n",
              "      <td>0.10</td>\n",
              "    </tr>\n",
              "    <tr>\n",
              "      <th>2</th>\n",
              "      <td>25</td>\n",
              "      <td>9600</td>\n",
              "      <td>MORTGAGE</td>\n",
              "      <td>1.0</td>\n",
              "      <td>MEDICAL</td>\n",
              "      <td>C</td>\n",
              "      <td>5500</td>\n",
              "      <td>12.87</td>\n",
              "      <td>1</td>\n",
              "      <td>0.57</td>\n",
              "    </tr>\n",
              "    <tr>\n",
              "      <th>3</th>\n",
              "      <td>23</td>\n",
              "      <td>65500</td>\n",
              "      <td>RENT</td>\n",
              "      <td>4.0</td>\n",
              "      <td>MEDICAL</td>\n",
              "      <td>C</td>\n",
              "      <td>35000</td>\n",
              "      <td>15.23</td>\n",
              "      <td>1</td>\n",
              "      <td>0.53</td>\n",
              "    </tr>\n",
              "    <tr>\n",
              "      <th>4</th>\n",
              "      <td>24</td>\n",
              "      <td>54400</td>\n",
              "      <td>RENT</td>\n",
              "      <td>8.0</td>\n",
              "      <td>MEDICAL</td>\n",
              "      <td>C</td>\n",
              "      <td>35000</td>\n",
              "      <td>14.27</td>\n",
              "      <td>1</td>\n",
              "      <td>0.55</td>\n",
              "    </tr>\n",
              "  </tbody>\n",
              "</table>\n",
              "</div>\n",
              "      <button class=\"colab-df-convert\" onclick=\"convertToInteractive('df-04dfa202-94fb-45b8-94c1-b6ec67e0a1f8')\"\n",
              "              title=\"Convert this dataframe to an interactive table.\"\n",
              "              style=\"display:none;\">\n",
              "        \n",
              "  <svg xmlns=\"http://www.w3.org/2000/svg\" height=\"24px\"viewBox=\"0 0 24 24\"\n",
              "       width=\"24px\">\n",
              "    <path d=\"M0 0h24v24H0V0z\" fill=\"none\"/>\n",
              "    <path d=\"M18.56 5.44l.94 2.06.94-2.06 2.06-.94-2.06-.94-.94-2.06-.94 2.06-2.06.94zm-11 1L8.5 8.5l.94-2.06 2.06-.94-2.06-.94L8.5 2.5l-.94 2.06-2.06.94zm10 10l.94 2.06.94-2.06 2.06-.94-2.06-.94-.94-2.06-.94 2.06-2.06.94z\"/><path d=\"M17.41 7.96l-1.37-1.37c-.4-.4-.92-.59-1.43-.59-.52 0-1.04.2-1.43.59L10.3 9.45l-7.72 7.72c-.78.78-.78 2.05 0 2.83L4 21.41c.39.39.9.59 1.41.59.51 0 1.02-.2 1.41-.59l7.78-7.78 2.81-2.81c.8-.78.8-2.07 0-2.86zM5.41 20L4 18.59l7.72-7.72 1.47 1.35L5.41 20z\"/>\n",
              "  </svg>\n",
              "      </button>\n",
              "      \n",
              "  <style>\n",
              "    .colab-df-container {\n",
              "      display:flex;\n",
              "      flex-wrap:wrap;\n",
              "      gap: 12px;\n",
              "    }\n",
              "\n",
              "    .colab-df-convert {\n",
              "      background-color: #E8F0FE;\n",
              "      border: none;\n",
              "      border-radius: 50%;\n",
              "      cursor: pointer;\n",
              "      display: none;\n",
              "      fill: #1967D2;\n",
              "      height: 32px;\n",
              "      padding: 0 0 0 0;\n",
              "      width: 32px;\n",
              "    }\n",
              "\n",
              "    .colab-df-convert:hover {\n",
              "      background-color: #E2EBFA;\n",
              "      box-shadow: 0px 1px 2px rgba(60, 64, 67, 0.3), 0px 1px 3px 1px rgba(60, 64, 67, 0.15);\n",
              "      fill: #174EA6;\n",
              "    }\n",
              "\n",
              "    [theme=dark] .colab-df-convert {\n",
              "      background-color: #3B4455;\n",
              "      fill: #D2E3FC;\n",
              "    }\n",
              "\n",
              "    [theme=dark] .colab-df-convert:hover {\n",
              "      background-color: #434B5C;\n",
              "      box-shadow: 0px 1px 3px 1px rgba(0, 0, 0, 0.15);\n",
              "      filter: drop-shadow(0px 1px 2px rgba(0, 0, 0, 0.3));\n",
              "      fill: #FFFFFF;\n",
              "    }\n",
              "  </style>\n",
              "\n",
              "      <script>\n",
              "        const buttonEl =\n",
              "          document.querySelector('#df-04dfa202-94fb-45b8-94c1-b6ec67e0a1f8 button.colab-df-convert');\n",
              "        buttonEl.style.display =\n",
              "          google.colab.kernel.accessAllowed ? 'block' : 'none';\n",
              "\n",
              "        async function convertToInteractive(key) {\n",
              "          const element = document.querySelector('#df-04dfa202-94fb-45b8-94c1-b6ec67e0a1f8');\n",
              "          const dataTable =\n",
              "            await google.colab.kernel.invokeFunction('convertToInteractive',\n",
              "                                                     [key], {});\n",
              "          if (!dataTable) return;\n",
              "\n",
              "          const docLinkHtml = 'Like what you see? Visit the ' +\n",
              "            '<a target=\"_blank\" href=https://colab.research.google.com/notebooks/data_table.ipynb>data table notebook</a>'\n",
              "            + ' to learn more about interactive tables.';\n",
              "          element.innerHTML = '';\n",
              "          dataTable['output_type'] = 'display_data';\n",
              "          await google.colab.output.renderOutput(dataTable, element);\n",
              "          const docLink = document.createElement('div');\n",
              "          docLink.innerHTML = docLinkHtml;\n",
              "          element.appendChild(docLink);\n",
              "        }\n",
              "      </script>\n",
              "    </div>\n",
              "  </div>\n",
              "  "
            ]
          },
          "metadata": {},
          "execution_count": 82
        }
      ]
    },
    {
      "cell_type": "code",
      "source": [
        "df.tail(5)         # Dataset Last 5 Lines."
      ],
      "metadata": {
        "colab": {
          "base_uri": "https://localhost:8080/",
          "height": 206
        },
        "id": "CeAVUeFxieP2",
        "outputId": "f8c5508f-8126-4618-d2a7-6b8646044efe"
      },
      "execution_count": 83,
      "outputs": [
        {
          "output_type": "execute_result",
          "data": {
            "text/plain": [
              "       person_age  person_income person_home_ownership  person_emp_length  \\\n",
              "32576          57          53000              MORTGAGE                1.0   \n",
              "32577          54         120000              MORTGAGE                4.0   \n",
              "32578          65          76000                  RENT                3.0   \n",
              "32579          56         150000              MORTGAGE                5.0   \n",
              "32580          66          42000                  RENT                2.0   \n",
              "\n",
              "           loan_intent loan_grade  loan_amnt  loan_int_rate  loan_status  \\\n",
              "32576         PERSONAL          C       5800          13.16            0   \n",
              "32577         PERSONAL          A      17625           7.49            0   \n",
              "32578  HOMEIMPROVEMENT          B      35000          10.99            1   \n",
              "32579         PERSONAL          B      15000          11.48            0   \n",
              "32580          MEDICAL          B       6475           9.99            0   \n",
              "\n",
              "       loan_percent_income  \n",
              "32576                 0.11  \n",
              "32577                 0.15  \n",
              "32578                 0.46  \n",
              "32579                 0.10  \n",
              "32580                 0.15  "
            ],
            "text/html": [
              "\n",
              "  <div id=\"df-4fed9f01-582d-4f6b-b787-c8eb3d830da0\">\n",
              "    <div class=\"colab-df-container\">\n",
              "      <div>\n",
              "<style scoped>\n",
              "    .dataframe tbody tr th:only-of-type {\n",
              "        vertical-align: middle;\n",
              "    }\n",
              "\n",
              "    .dataframe tbody tr th {\n",
              "        vertical-align: top;\n",
              "    }\n",
              "\n",
              "    .dataframe thead th {\n",
              "        text-align: right;\n",
              "    }\n",
              "</style>\n",
              "<table border=\"1\" class=\"dataframe\">\n",
              "  <thead>\n",
              "    <tr style=\"text-align: right;\">\n",
              "      <th></th>\n",
              "      <th>person_age</th>\n",
              "      <th>person_income</th>\n",
              "      <th>person_home_ownership</th>\n",
              "      <th>person_emp_length</th>\n",
              "      <th>loan_intent</th>\n",
              "      <th>loan_grade</th>\n",
              "      <th>loan_amnt</th>\n",
              "      <th>loan_int_rate</th>\n",
              "      <th>loan_status</th>\n",
              "      <th>loan_percent_income</th>\n",
              "    </tr>\n",
              "  </thead>\n",
              "  <tbody>\n",
              "    <tr>\n",
              "      <th>32576</th>\n",
              "      <td>57</td>\n",
              "      <td>53000</td>\n",
              "      <td>MORTGAGE</td>\n",
              "      <td>1.0</td>\n",
              "      <td>PERSONAL</td>\n",
              "      <td>C</td>\n",
              "      <td>5800</td>\n",
              "      <td>13.16</td>\n",
              "      <td>0</td>\n",
              "      <td>0.11</td>\n",
              "    </tr>\n",
              "    <tr>\n",
              "      <th>32577</th>\n",
              "      <td>54</td>\n",
              "      <td>120000</td>\n",
              "      <td>MORTGAGE</td>\n",
              "      <td>4.0</td>\n",
              "      <td>PERSONAL</td>\n",
              "      <td>A</td>\n",
              "      <td>17625</td>\n",
              "      <td>7.49</td>\n",
              "      <td>0</td>\n",
              "      <td>0.15</td>\n",
              "    </tr>\n",
              "    <tr>\n",
              "      <th>32578</th>\n",
              "      <td>65</td>\n",
              "      <td>76000</td>\n",
              "      <td>RENT</td>\n",
              "      <td>3.0</td>\n",
              "      <td>HOMEIMPROVEMENT</td>\n",
              "      <td>B</td>\n",
              "      <td>35000</td>\n",
              "      <td>10.99</td>\n",
              "      <td>1</td>\n",
              "      <td>0.46</td>\n",
              "    </tr>\n",
              "    <tr>\n",
              "      <th>32579</th>\n",
              "      <td>56</td>\n",
              "      <td>150000</td>\n",
              "      <td>MORTGAGE</td>\n",
              "      <td>5.0</td>\n",
              "      <td>PERSONAL</td>\n",
              "      <td>B</td>\n",
              "      <td>15000</td>\n",
              "      <td>11.48</td>\n",
              "      <td>0</td>\n",
              "      <td>0.10</td>\n",
              "    </tr>\n",
              "    <tr>\n",
              "      <th>32580</th>\n",
              "      <td>66</td>\n",
              "      <td>42000</td>\n",
              "      <td>RENT</td>\n",
              "      <td>2.0</td>\n",
              "      <td>MEDICAL</td>\n",
              "      <td>B</td>\n",
              "      <td>6475</td>\n",
              "      <td>9.99</td>\n",
              "      <td>0</td>\n",
              "      <td>0.15</td>\n",
              "    </tr>\n",
              "  </tbody>\n",
              "</table>\n",
              "</div>\n",
              "      <button class=\"colab-df-convert\" onclick=\"convertToInteractive('df-4fed9f01-582d-4f6b-b787-c8eb3d830da0')\"\n",
              "              title=\"Convert this dataframe to an interactive table.\"\n",
              "              style=\"display:none;\">\n",
              "        \n",
              "  <svg xmlns=\"http://www.w3.org/2000/svg\" height=\"24px\"viewBox=\"0 0 24 24\"\n",
              "       width=\"24px\">\n",
              "    <path d=\"M0 0h24v24H0V0z\" fill=\"none\"/>\n",
              "    <path d=\"M18.56 5.44l.94 2.06.94-2.06 2.06-.94-2.06-.94-.94-2.06-.94 2.06-2.06.94zm-11 1L8.5 8.5l.94-2.06 2.06-.94-2.06-.94L8.5 2.5l-.94 2.06-2.06.94zm10 10l.94 2.06.94-2.06 2.06-.94-2.06-.94-.94-2.06-.94 2.06-2.06.94z\"/><path d=\"M17.41 7.96l-1.37-1.37c-.4-.4-.92-.59-1.43-.59-.52 0-1.04.2-1.43.59L10.3 9.45l-7.72 7.72c-.78.78-.78 2.05 0 2.83L4 21.41c.39.39.9.59 1.41.59.51 0 1.02-.2 1.41-.59l7.78-7.78 2.81-2.81c.8-.78.8-2.07 0-2.86zM5.41 20L4 18.59l7.72-7.72 1.47 1.35L5.41 20z\"/>\n",
              "  </svg>\n",
              "      </button>\n",
              "      \n",
              "  <style>\n",
              "    .colab-df-container {\n",
              "      display:flex;\n",
              "      flex-wrap:wrap;\n",
              "      gap: 12px;\n",
              "    }\n",
              "\n",
              "    .colab-df-convert {\n",
              "      background-color: #E8F0FE;\n",
              "      border: none;\n",
              "      border-radius: 50%;\n",
              "      cursor: pointer;\n",
              "      display: none;\n",
              "      fill: #1967D2;\n",
              "      height: 32px;\n",
              "      padding: 0 0 0 0;\n",
              "      width: 32px;\n",
              "    }\n",
              "\n",
              "    .colab-df-convert:hover {\n",
              "      background-color: #E2EBFA;\n",
              "      box-shadow: 0px 1px 2px rgba(60, 64, 67, 0.3), 0px 1px 3px 1px rgba(60, 64, 67, 0.15);\n",
              "      fill: #174EA6;\n",
              "    }\n",
              "\n",
              "    [theme=dark] .colab-df-convert {\n",
              "      background-color: #3B4455;\n",
              "      fill: #D2E3FC;\n",
              "    }\n",
              "\n",
              "    [theme=dark] .colab-df-convert:hover {\n",
              "      background-color: #434B5C;\n",
              "      box-shadow: 0px 1px 3px 1px rgba(0, 0, 0, 0.15);\n",
              "      filter: drop-shadow(0px 1px 2px rgba(0, 0, 0, 0.3));\n",
              "      fill: #FFFFFF;\n",
              "    }\n",
              "  </style>\n",
              "\n",
              "      <script>\n",
              "        const buttonEl =\n",
              "          document.querySelector('#df-4fed9f01-582d-4f6b-b787-c8eb3d830da0 button.colab-df-convert');\n",
              "        buttonEl.style.display =\n",
              "          google.colab.kernel.accessAllowed ? 'block' : 'none';\n",
              "\n",
              "        async function convertToInteractive(key) {\n",
              "          const element = document.querySelector('#df-4fed9f01-582d-4f6b-b787-c8eb3d830da0');\n",
              "          const dataTable =\n",
              "            await google.colab.kernel.invokeFunction('convertToInteractive',\n",
              "                                                     [key], {});\n",
              "          if (!dataTable) return;\n",
              "\n",
              "          const docLinkHtml = 'Like what you see? Visit the ' +\n",
              "            '<a target=\"_blank\" href=https://colab.research.google.com/notebooks/data_table.ipynb>data table notebook</a>'\n",
              "            + ' to learn more about interactive tables.';\n",
              "          element.innerHTML = '';\n",
              "          dataTable['output_type'] = 'display_data';\n",
              "          await google.colab.output.renderOutput(dataTable, element);\n",
              "          const docLink = document.createElement('div');\n",
              "          docLink.innerHTML = docLinkHtml;\n",
              "          element.appendChild(docLink);\n",
              "        }\n",
              "      </script>\n",
              "    </div>\n",
              "  </div>\n",
              "  "
            ]
          },
          "metadata": {},
          "execution_count": 83
        }
      ]
    },
    {
      "cell_type": "code",
      "source": [
        "df.describe()       # Data Summary"
      ],
      "metadata": {
        "colab": {
          "base_uri": "https://localhost:8080/",
          "height": 300
        },
        "id": "EanwkqvZjBL1",
        "outputId": "a4218763-53e9-4288-d4c5-3b88e6a9836a"
      },
      "execution_count": 84,
      "outputs": [
        {
          "output_type": "execute_result",
          "data": {
            "text/plain": [
              "         person_age  person_income  person_emp_length     loan_amnt  \\\n",
              "count  32581.000000   3.258100e+04       31686.000000  32581.000000   \n",
              "mean      27.734600   6.607485e+04           4.789686   9589.371106   \n",
              "std        6.348078   6.198312e+04           4.142630   6322.086646   \n",
              "min       20.000000   4.000000e+03           0.000000    500.000000   \n",
              "25%       23.000000   3.850000e+04           2.000000   5000.000000   \n",
              "50%       26.000000   5.500000e+04           4.000000   8000.000000   \n",
              "75%       30.000000   7.920000e+04           7.000000  12200.000000   \n",
              "max      144.000000   6.000000e+06         123.000000  35000.000000   \n",
              "\n",
              "       loan_int_rate   loan_status  loan_percent_income  \n",
              "count   29465.000000  32581.000000         32581.000000  \n",
              "mean       11.011695      0.218164             0.170203  \n",
              "std         3.240459      0.413006             0.106782  \n",
              "min         5.420000      0.000000             0.000000  \n",
              "25%         7.900000      0.000000             0.090000  \n",
              "50%        10.990000      0.000000             0.150000  \n",
              "75%        13.470000      0.000000             0.230000  \n",
              "max        23.220000      1.000000             0.830000  "
            ],
            "text/html": [
              "\n",
              "  <div id=\"df-2923a1f1-9604-4b6e-965c-f9617472d561\">\n",
              "    <div class=\"colab-df-container\">\n",
              "      <div>\n",
              "<style scoped>\n",
              "    .dataframe tbody tr th:only-of-type {\n",
              "        vertical-align: middle;\n",
              "    }\n",
              "\n",
              "    .dataframe tbody tr th {\n",
              "        vertical-align: top;\n",
              "    }\n",
              "\n",
              "    .dataframe thead th {\n",
              "        text-align: right;\n",
              "    }\n",
              "</style>\n",
              "<table border=\"1\" class=\"dataframe\">\n",
              "  <thead>\n",
              "    <tr style=\"text-align: right;\">\n",
              "      <th></th>\n",
              "      <th>person_age</th>\n",
              "      <th>person_income</th>\n",
              "      <th>person_emp_length</th>\n",
              "      <th>loan_amnt</th>\n",
              "      <th>loan_int_rate</th>\n",
              "      <th>loan_status</th>\n",
              "      <th>loan_percent_income</th>\n",
              "    </tr>\n",
              "  </thead>\n",
              "  <tbody>\n",
              "    <tr>\n",
              "      <th>count</th>\n",
              "      <td>32581.000000</td>\n",
              "      <td>3.258100e+04</td>\n",
              "      <td>31686.000000</td>\n",
              "      <td>32581.000000</td>\n",
              "      <td>29465.000000</td>\n",
              "      <td>32581.000000</td>\n",
              "      <td>32581.000000</td>\n",
              "    </tr>\n",
              "    <tr>\n",
              "      <th>mean</th>\n",
              "      <td>27.734600</td>\n",
              "      <td>6.607485e+04</td>\n",
              "      <td>4.789686</td>\n",
              "      <td>9589.371106</td>\n",
              "      <td>11.011695</td>\n",
              "      <td>0.218164</td>\n",
              "      <td>0.170203</td>\n",
              "    </tr>\n",
              "    <tr>\n",
              "      <th>std</th>\n",
              "      <td>6.348078</td>\n",
              "      <td>6.198312e+04</td>\n",
              "      <td>4.142630</td>\n",
              "      <td>6322.086646</td>\n",
              "      <td>3.240459</td>\n",
              "      <td>0.413006</td>\n",
              "      <td>0.106782</td>\n",
              "    </tr>\n",
              "    <tr>\n",
              "      <th>min</th>\n",
              "      <td>20.000000</td>\n",
              "      <td>4.000000e+03</td>\n",
              "      <td>0.000000</td>\n",
              "      <td>500.000000</td>\n",
              "      <td>5.420000</td>\n",
              "      <td>0.000000</td>\n",
              "      <td>0.000000</td>\n",
              "    </tr>\n",
              "    <tr>\n",
              "      <th>25%</th>\n",
              "      <td>23.000000</td>\n",
              "      <td>3.850000e+04</td>\n",
              "      <td>2.000000</td>\n",
              "      <td>5000.000000</td>\n",
              "      <td>7.900000</td>\n",
              "      <td>0.000000</td>\n",
              "      <td>0.090000</td>\n",
              "    </tr>\n",
              "    <tr>\n",
              "      <th>50%</th>\n",
              "      <td>26.000000</td>\n",
              "      <td>5.500000e+04</td>\n",
              "      <td>4.000000</td>\n",
              "      <td>8000.000000</td>\n",
              "      <td>10.990000</td>\n",
              "      <td>0.000000</td>\n",
              "      <td>0.150000</td>\n",
              "    </tr>\n",
              "    <tr>\n",
              "      <th>75%</th>\n",
              "      <td>30.000000</td>\n",
              "      <td>7.920000e+04</td>\n",
              "      <td>7.000000</td>\n",
              "      <td>12200.000000</td>\n",
              "      <td>13.470000</td>\n",
              "      <td>0.000000</td>\n",
              "      <td>0.230000</td>\n",
              "    </tr>\n",
              "    <tr>\n",
              "      <th>max</th>\n",
              "      <td>144.000000</td>\n",
              "      <td>6.000000e+06</td>\n",
              "      <td>123.000000</td>\n",
              "      <td>35000.000000</td>\n",
              "      <td>23.220000</td>\n",
              "      <td>1.000000</td>\n",
              "      <td>0.830000</td>\n",
              "    </tr>\n",
              "  </tbody>\n",
              "</table>\n",
              "</div>\n",
              "      <button class=\"colab-df-convert\" onclick=\"convertToInteractive('df-2923a1f1-9604-4b6e-965c-f9617472d561')\"\n",
              "              title=\"Convert this dataframe to an interactive table.\"\n",
              "              style=\"display:none;\">\n",
              "        \n",
              "  <svg xmlns=\"http://www.w3.org/2000/svg\" height=\"24px\"viewBox=\"0 0 24 24\"\n",
              "       width=\"24px\">\n",
              "    <path d=\"M0 0h24v24H0V0z\" fill=\"none\"/>\n",
              "    <path d=\"M18.56 5.44l.94 2.06.94-2.06 2.06-.94-2.06-.94-.94-2.06-.94 2.06-2.06.94zm-11 1L8.5 8.5l.94-2.06 2.06-.94-2.06-.94L8.5 2.5l-.94 2.06-2.06.94zm10 10l.94 2.06.94-2.06 2.06-.94-2.06-.94-.94-2.06-.94 2.06-2.06.94z\"/><path d=\"M17.41 7.96l-1.37-1.37c-.4-.4-.92-.59-1.43-.59-.52 0-1.04.2-1.43.59L10.3 9.45l-7.72 7.72c-.78.78-.78 2.05 0 2.83L4 21.41c.39.39.9.59 1.41.59.51 0 1.02-.2 1.41-.59l7.78-7.78 2.81-2.81c.8-.78.8-2.07 0-2.86zM5.41 20L4 18.59l7.72-7.72 1.47 1.35L5.41 20z\"/>\n",
              "  </svg>\n",
              "      </button>\n",
              "      \n",
              "  <style>\n",
              "    .colab-df-container {\n",
              "      display:flex;\n",
              "      flex-wrap:wrap;\n",
              "      gap: 12px;\n",
              "    }\n",
              "\n",
              "    .colab-df-convert {\n",
              "      background-color: #E8F0FE;\n",
              "      border: none;\n",
              "      border-radius: 50%;\n",
              "      cursor: pointer;\n",
              "      display: none;\n",
              "      fill: #1967D2;\n",
              "      height: 32px;\n",
              "      padding: 0 0 0 0;\n",
              "      width: 32px;\n",
              "    }\n",
              "\n",
              "    .colab-df-convert:hover {\n",
              "      background-color: #E2EBFA;\n",
              "      box-shadow: 0px 1px 2px rgba(60, 64, 67, 0.3), 0px 1px 3px 1px rgba(60, 64, 67, 0.15);\n",
              "      fill: #174EA6;\n",
              "    }\n",
              "\n",
              "    [theme=dark] .colab-df-convert {\n",
              "      background-color: #3B4455;\n",
              "      fill: #D2E3FC;\n",
              "    }\n",
              "\n",
              "    [theme=dark] .colab-df-convert:hover {\n",
              "      background-color: #434B5C;\n",
              "      box-shadow: 0px 1px 3px 1px rgba(0, 0, 0, 0.15);\n",
              "      filter: drop-shadow(0px 1px 2px rgba(0, 0, 0, 0.3));\n",
              "      fill: #FFFFFF;\n",
              "    }\n",
              "  </style>\n",
              "\n",
              "      <script>\n",
              "        const buttonEl =\n",
              "          document.querySelector('#df-2923a1f1-9604-4b6e-965c-f9617472d561 button.colab-df-convert');\n",
              "        buttonEl.style.display =\n",
              "          google.colab.kernel.accessAllowed ? 'block' : 'none';\n",
              "\n",
              "        async function convertToInteractive(key) {\n",
              "          const element = document.querySelector('#df-2923a1f1-9604-4b6e-965c-f9617472d561');\n",
              "          const dataTable =\n",
              "            await google.colab.kernel.invokeFunction('convertToInteractive',\n",
              "                                                     [key], {});\n",
              "          if (!dataTable) return;\n",
              "\n",
              "          const docLinkHtml = 'Like what you see? Visit the ' +\n",
              "            '<a target=\"_blank\" href=https://colab.research.google.com/notebooks/data_table.ipynb>data table notebook</a>'\n",
              "            + ' to learn more about interactive tables.';\n",
              "          element.innerHTML = '';\n",
              "          dataTable['output_type'] = 'display_data';\n",
              "          await google.colab.output.renderOutput(dataTable, element);\n",
              "          const docLink = document.createElement('div');\n",
              "          docLink.innerHTML = docLinkHtml;\n",
              "          element.appendChild(docLink);\n",
              "        }\n",
              "      </script>\n",
              "    </div>\n",
              "  </div>\n",
              "  "
            ]
          },
          "metadata": {},
          "execution_count": 84
        }
      ]
    },
    {
      "cell_type": "markdown",
      "source": [
        "**@ Data Visualization**"
      ],
      "metadata": {
        "id": "I30L3S2nkofr"
      }
    },
    {
      "cell_type": "markdown",
      "source": [
        "###### ***Single Variate Analysis***"
      ],
      "metadata": {
        "id": "Q_aCHNIBkylJ"
      }
    },
    {
      "cell_type": "code",
      "source": [
        "df.isna().sum()    # Check for the Null's"
      ],
      "metadata": {
        "id": "xDxVvNh1j__P",
        "colab": {
          "base_uri": "https://localhost:8080/",
          "height": 0
        },
        "outputId": "74938381-c8f3-4736-8de5-055215c00aa8"
      },
      "execution_count": 85,
      "outputs": [
        {
          "output_type": "execute_result",
          "data": {
            "text/plain": [
              "person_age                  0\n",
              "person_income               0\n",
              "person_home_ownership       0\n",
              "person_emp_length         895\n",
              "loan_intent                 0\n",
              "loan_grade                  0\n",
              "loan_amnt                   0\n",
              "loan_int_rate            3116\n",
              "loan_status                 0\n",
              "loan_percent_income         0\n",
              "dtype: int64"
            ]
          },
          "metadata": {},
          "execution_count": 85
        }
      ]
    },
    {
      "cell_type": "markdown",
      "source": [
        "***Null Treatment: ---  Found a Null's in the \"person_emp_length\" and \"loan_int_rate\"***"
      ],
      "metadata": {
        "id": "leRjp-capAGD"
      }
    },
    {
      "cell_type": "code",
      "source": [
        "# Replace the Null values with it's Mean.\n",
        "\n",
        "df.iloc[:,7] = df.iloc[:,7].fillna(df.iloc[:,7].mean())\n",
        "df.iloc[:,3] = df.iloc[:,3].fillna(df.iloc[:,3].mean())\n",
        "df.isna().sum()    # Check for the Null's"
      ],
      "metadata": {
        "colab": {
          "base_uri": "https://localhost:8080/",
          "height": 0
        },
        "id": "iJ2EUtVpblYi",
        "outputId": "6789b41d-23fb-4631-bf7e-b8968bf34f59"
      },
      "execution_count": 86,
      "outputs": [
        {
          "output_type": "execute_result",
          "data": {
            "text/plain": [
              "person_age               0\n",
              "person_income            0\n",
              "person_home_ownership    0\n",
              "person_emp_length        0\n",
              "loan_intent              0\n",
              "loan_grade               0\n",
              "loan_amnt                0\n",
              "loan_int_rate            0\n",
              "loan_status              0\n",
              "loan_percent_income      0\n",
              "dtype: int64"
            ]
          },
          "metadata": {},
          "execution_count": 86
        }
      ]
    },
    {
      "cell_type": "code",
      "source": [
        "# Check for Anamolies\n",
        "\n",
        "# Loan Interest Rate\n",
        "plt.subplot(1,4,1)\n",
        "sns.boxplot(df.iloc[:,7], color = 'green')\n",
        "plt.title(\"Loan Interest Rate\", fontsize = 10)\n",
        "\n",
        "# Person Employee Experiance\n",
        "plt.subplot(1,4,3)\n",
        "sns.boxplot(df.iloc[:,3], color = 'green')\n",
        "plt.title(\"Person Employee Length\", fontsize = 10)\n",
        "\n",
        "# Skewness defines a measure of the asymmetry of a distribution\n",
        "print('Skewness: ')\n",
        "print(df.iloc[:,3].name,\":\", df.iloc[:,3].skew())\n",
        "print(df.iloc[:,7].name,\":\", df.iloc[:,7].skew())"
      ],
      "metadata": {
        "colab": {
          "base_uri": "https://localhost:8080/",
          "height": 501
        },
        "id": "DZShBCeJply-",
        "outputId": "e7104e11-db18-46a0-c8a7-d1211bfc55c9"
      },
      "execution_count": 87,
      "outputs": [
        {
          "output_type": "stream",
          "name": "stdout",
          "text": [
            "Skewness: \n",
            "person_emp_length : 2.651118391390236\n",
            "loan_int_rate : 0.21929952450406942\n"
          ]
        },
        {
          "output_type": "display_data",
          "data": {
            "text/plain": [
              "<Figure size 640x480 with 2 Axes>"
            ],
            "image/png": "[encoded data removed]"
          },
          "metadata": {}
        }
      ]
    },
    {
      "cell_type": "markdown",
      "source": [
        "From the above Plots found that, **\"Loan Interest Rate\"** Attribute is in Linear. But for the **\"Person Employee Length or Experiance\"** is having a few **anamolies**, as we see in the above plot, a Few records have been at 120."
      ],
      "metadata": {
        "id": "IKVS9PCxwb5f"
      }
    },
    {
      "cell_type": "markdown",
      "source": [
        "***Anamoly Treatment - Person Employee Length***"
      ],
      "metadata": {
        "id": "hg4olSogzHDS"
      }
    },
    {
      "cell_type": "code",
      "source": [
        "# Replacing the Anamolies with its 90% quantile value.\n",
        "\n",
        "df.iloc[:,3] = np.where(df.iloc[:,3] > df.iloc[:,3].quantile(0.90), df.iloc[:,3].quantile(0.90), df.iloc[:,3])\n",
        "df.iloc[:,3].describe()"
      ],
      "metadata": {
        "id": "O7VDTPeGoNO7",
        "colab": {
          "base_uri": "https://localhost:8080/",
          "height": 0
        },
        "outputId": "b432e3c7-41f1-4991-f00a-ef15c72af83f"
      },
      "execution_count": 88,
      "outputs": [
        {
          "output_type": "execute_result",
          "data": {
            "text/plain": [
              "count    32581.000000\n",
              "mean         4.447708\n",
              "std          3.181802\n",
              "min          0.000000\n",
              "25%          2.000000\n",
              "50%          4.000000\n",
              "75%          7.000000\n",
              "max         10.000000\n",
              "Name: person_emp_length, dtype: float64"
            ]
          },
          "metadata": {},
          "execution_count": 88
        }
      ]
    },
    {
      "cell_type": "code",
      "source": [
        "# Converting the Categorical Text values into Numerical Values using Ordinal Encoder.\n",
        "\n",
        "ord_enc = OrdinalEncoder()\n",
        "df[['person_home_ownership', 'loan_intent', 'loan_grade']] = ord_enc.fit_transform(df[['person_home_ownership', 'loan_intent', 'loan_grade']])\n",
        "df[['person_home_ownership', 'loan_intent', 'loan_grade']].head(11)\n",
        "df.describe()"
      ],
      "metadata": {
        "colab": {
          "base_uri": "https://localhost:8080/",
          "height": 300
        },
        "id": "1Cx1m4pukwe3",
        "outputId": "d0c6558d-9163-4c39-e5a3-73274f46dede"
      },
      "execution_count": 89,
      "outputs": [
        {
          "output_type": "execute_result",
          "data": {
            "text/plain": [
              "         person_age  person_income  person_home_ownership  person_emp_length  \\\n",
              "count  32581.000000   3.258100e+04           32581.000000       32581.000000   \n",
              "mean      27.734600   6.607485e+04               1.676222           4.447708   \n",
              "std        6.348078   6.198312e+04               1.433116           3.181802   \n",
              "min       20.000000   4.000000e+03               0.000000           0.000000   \n",
              "25%       23.000000   3.850000e+04               0.000000           2.000000   \n",
              "50%       26.000000   5.500000e+04               3.000000           4.000000   \n",
              "75%       30.000000   7.920000e+04               3.000000           7.000000   \n",
              "max      144.000000   6.000000e+06               3.000000          10.000000   \n",
              "\n",
              "        loan_intent    loan_grade     loan_amnt  loan_int_rate   loan_status  \\\n",
              "count  32581.000000  32581.000000  32581.000000   32581.000000  32581.000000   \n",
              "mean       2.533839      1.218195   9589.371106      11.011695      0.218164   \n",
              "std        1.731182      1.166336   6322.086646       3.081605      0.413006   \n",
              "min        0.000000      0.000000    500.000000       5.420000      0.000000   \n",
              "25%        1.000000      0.000000   5000.000000       8.490000      0.000000   \n",
              "50%        3.000000      1.000000   8000.000000      11.011695      0.000000   \n",
              "75%        4.000000      2.000000  12200.000000      13.110000      0.000000   \n",
              "max        5.000000      6.000000  35000.000000      23.220000      1.000000   \n",
              "\n",
              "       loan_percent_income  \n",
              "count         32581.000000  \n",
              "mean              0.170203  \n",
              "std               0.106782  \n",
              "min               0.000000  \n",
              "25%               0.090000  \n",
              "50%               0.150000  \n",
              "75%               0.230000  \n",
              "max               0.830000  "
            ],
            "text/html": [
              "\n",
              "  <div id=\"df-59072957-828b-4a25-bf35-ade705b572ab\">\n",
              "    <div class=\"colab-df-container\">\n",
              "      <div>\n",
              "<style scoped>\n",
              "    .dataframe tbody tr th:only-of-type {\n",
              "        vertical-align: middle;\n",
              "    }\n",
              "\n",
              "    .dataframe tbody tr th {\n",
              "        vertical-align: top;\n",
              "    }\n",
              "\n",
              "    .dataframe thead th {\n",
              "        text-align: right;\n",
              "    }\n",
              "</style>\n",
              "<table border=\"1\" class=\"dataframe\">\n",
              "  <thead>\n",
              "    <tr style=\"text-align: right;\">\n",
              "      <th></th>\n",
              "      <th>person_age</th>\n",
              "      <th>person_income</th>\n",
              "      <th>person_home_ownership</th>\n",
              "      <th>person_emp_length</th>\n",
              "      <th>loan_intent</th>\n",
              "      <th>loan_grade</th>\n",
              "      <th>loan_amnt</th>\n",
              "      <th>loan_int_rate</th>\n",
              "      <th>loan_status</th>\n",
              "      <th>loan_percent_income</th>\n",
              "    </tr>\n",
              "  </thead>\n",
              "  <tbody>\n",
              "    <tr>\n",
              "      <th>count</th>\n",
              "      <td>32581.000000</td>\n",
              "      <td>3.258100e+04</td>\n",
              "      <td>32581.000000</td>\n",
              "      <td>32581.000000</td>\n",
              "      <td>32581.000000</td>\n",
              "      <td>32581.000000</td>\n",
              "      <td>32581.000000</td>\n",
              "      <td>32581.000000</td>\n",
              "      <td>32581.000000</td>\n",
              "      <td>32581.000000</td>\n",
              "    </tr>\n",
              "    <tr>\n",
              "      <th>mean</th>\n",
              "      <td>27.734600</td>\n",
              "      <td>6.607485e+04</td>\n",
              "      <td>1.676222</td>\n",
              "      <td>4.447708</td>\n",
              "      <td>2.533839</td>\n",
              "      <td>1.218195</td>\n",
              "      <td>9589.371106</td>\n",
              "      <td>11.011695</td>\n",
              "      <td>0.218164</td>\n",
              "      <td>0.170203</td>\n",
              "    </tr>\n",
              "    <tr>\n",
              "      <th>std</th>\n",
              "      <td>6.348078</td>\n",
              "      <td>6.198312e+04</td>\n",
              "      <td>1.433116</td>\n",
              "      <td>3.181802</td>\n",
              "      <td>1.731182</td>\n",
              "      <td>1.166336</td>\n",
              "      <td>6322.086646</td>\n",
              "      <td>3.081605</td>\n",
              "      <td>0.413006</td>\n",
              "      <td>0.106782</td>\n",
              "    </tr>\n",
              "    <tr>\n",
              "      <th>min</th>\n",
              "      <td>20.000000</td>\n",
              "      <td>4.000000e+03</td>\n",
              "      <td>0.000000</td>\n",
              "      <td>0.000000</td>\n",
              "      <td>0.000000</td>\n",
              "      <td>0.000000</td>\n",
              "      <td>500.000000</td>\n",
              "      <td>5.420000</td>\n",
              "      <td>0.000000</td>\n",
              "      <td>0.000000</td>\n",
              "    </tr>\n",
              "    <tr>\n",
              "      <th>25%</th>\n",
              "      <td>23.000000</td>\n",
              "      <td>3.850000e+04</td>\n",
              "      <td>0.000000</td>\n",
              "      <td>2.000000</td>\n",
              "      <td>1.000000</td>\n",
              "      <td>0.000000</td>\n",
              "      <td>5000.000000</td>\n",
              "      <td>8.490000</td>\n",
              "      <td>0.000000</td>\n",
              "      <td>0.090000</td>\n",
              "    </tr>\n",
              "    <tr>\n",
              "      <th>50%</th>\n",
              "      <td>26.000000</td>\n",
              "      <td>5.500000e+04</td>\n",
              "      <td>3.000000</td>\n",
              "      <td>4.000000</td>\n",
              "      <td>3.000000</td>\n",
              "      <td>1.000000</td>\n",
              "      <td>8000.000000</td>\n",
              "      <td>11.011695</td>\n",
              "      <td>0.000000</td>\n",
              "      <td>0.150000</td>\n",
              "    </tr>\n",
              "    <tr>\n",
              "      <th>75%</th>\n",
              "      <td>30.000000</td>\n",
              "      <td>7.920000e+04</td>\n",
              "      <td>3.000000</td>\n",
              "      <td>7.000000</td>\n",
              "      <td>4.000000</td>\n",
              "      <td>2.000000</td>\n",
              "      <td>12200.000000</td>\n",
              "      <td>13.110000</td>\n",
              "      <td>0.000000</td>\n",
              "      <td>0.230000</td>\n",
              "    </tr>\n",
              "    <tr>\n",
              "      <th>max</th>\n",
              "      <td>144.000000</td>\n",
              "      <td>6.000000e+06</td>\n",
              "      <td>3.000000</td>\n",
              "      <td>10.000000</td>\n",
              "      <td>5.000000</td>\n",
              "      <td>6.000000</td>\n",
              "      <td>35000.000000</td>\n",
              "      <td>23.220000</td>\n",
              "      <td>1.000000</td>\n",
              "      <td>0.830000</td>\n",
              "    </tr>\n",
              "  </tbody>\n",
              "</table>\n",
              "</div>\n",
              "      <button class=\"colab-df-convert\" onclick=\"convertToInteractive('df-59072957-828b-4a25-bf35-ade705b572ab')\"\n",
              "              title=\"Convert this dataframe to an interactive table.\"\n",
              "              style=\"display:none;\">\n",
              "        \n",
              "  <svg xmlns=\"http://www.w3.org/2000/svg\" height=\"24px\"viewBox=\"0 0 24 24\"\n",
              "       width=\"24px\">\n",
              "    <path d=\"M0 0h24v24H0V0z\" fill=\"none\"/>\n",
              "    <path d=\"M18.56 5.44l.94 2.06.94-2.06 2.06-.94-2.06-.94-.94-2.06-.94 2.06-2.06.94zm-11 1L8.5 8.5l.94-2.06 2.06-.94-2.06-.94L8.5 2.5l-.94 2.06-2.06.94zm10 10l.94 2.06.94-2.06 2.06-.94-2.06-.94-.94-2.06-.94 2.06-2.06.94z\"/><path d=\"M17.41 7.96l-1.37-1.37c-.4-.4-.92-.59-1.43-.59-.52 0-1.04.2-1.43.59L10.3 9.45l-7.72 7.72c-.78.78-.78 2.05 0 2.83L4 21.41c.39.39.9.59 1.41.59.51 0 1.02-.2 1.41-.59l7.78-7.78 2.81-2.81c.8-.78.8-2.07 0-2.86zM5.41 20L4 18.59l7.72-7.72 1.47 1.35L5.41 20z\"/>\n",
              "  </svg>\n",
              "      </button>\n",
              "      \n",
              "  <style>\n",
              "    .colab-df-container {\n",
              "      display:flex;\n",
              "      flex-wrap:wrap;\n",
              "      gap: 12px;\n",
              "    }\n",
              "\n",
              "    .colab-df-convert {\n",
              "      background-color: #E8F0FE;\n",
              "      border: none;\n",
              "      border-radius: 50%;\n",
              "      cursor: pointer;\n",
              "      display: none;\n",
              "      fill: #1967D2;\n",
              "      height: 32px;\n",
              "      padding: 0 0 0 0;\n",
              "      width: 32px;\n",
              "    }\n",
              "\n",
              "    .colab-df-convert:hover {\n",
              "      background-color: #E2EBFA;\n",
              "      box-shadow: 0px 1px 2px rgba(60, 64, 67, 0.3), 0px 1px 3px 1px rgba(60, 64, 67, 0.15);\n",
              "      fill: #174EA6;\n",
              "    }\n",
              "\n",
              "    [theme=dark] .colab-df-convert {\n",
              "      background-color: #3B4455;\n",
              "      fill: #D2E3FC;\n",
              "    }\n",
              "\n",
              "    [theme=dark] .colab-df-convert:hover {\n",
              "      background-color: #434B5C;\n",
              "      box-shadow: 0px 1px 3px 1px rgba(0, 0, 0, 0.15);\n",
              "      filter: drop-shadow(0px 1px 2px rgba(0, 0, 0, 0.3));\n",
              "      fill: #FFFFFF;\n",
              "    }\n",
              "  </style>\n",
              "\n",
              "      <script>\n",
              "        const buttonEl =\n",
              "          document.querySelector('#df-59072957-828b-4a25-bf35-ade705b572ab button.colab-df-convert');\n",
              "        buttonEl.style.display =\n",
              "          google.colab.kernel.accessAllowed ? 'block' : 'none';\n",
              "\n",
              "        async function convertToInteractive(key) {\n",
              "          const element = document.querySelector('#df-59072957-828b-4a25-bf35-ade705b572ab');\n",
              "          const dataTable =\n",
              "            await google.colab.kernel.invokeFunction('convertToInteractive',\n",
              "                                                     [key], {});\n",
              "          if (!dataTable) return;\n",
              "\n",
              "          const docLinkHtml = 'Like what you see? Visit the ' +\n",
              "            '<a target=\"_blank\" href=https://colab.research.google.com/notebooks/data_table.ipynb>data table notebook</a>'\n",
              "            + ' to learn more about interactive tables.';\n",
              "          element.innerHTML = '';\n",
              "          dataTable['output_type'] = 'display_data';\n",
              "          await google.colab.output.renderOutput(dataTable, element);\n",
              "          const docLink = document.createElement('div');\n",
              "          docLink.innerHTML = docLinkHtml;\n",
              "          element.appendChild(docLink);\n",
              "        }\n",
              "      </script>\n",
              "    </div>\n",
              "  </div>\n",
              "  "
            ]
          },
          "metadata": {},
          "execution_count": 89
        }
      ]
    },
    {
      "cell_type": "code",
      "source": [
        "# Unique Values in the individual Fields.\n",
        "\n",
        "def unique(x):\n",
        "    return len(df[x].unique())\n",
        "\n",
        "number_unique_vals = {x: unique(x) for x in df.columns}\n",
        "number_unique_vals"
      ],
      "metadata": {
        "colab": {
          "base_uri": "https://localhost:8080/",
          "height": 0
        },
        "id": "ptxiReSSU2Qd",
        "outputId": "7354f645-4623-4304-dcdb-ebc91f7df528"
      },
      "execution_count": 90,
      "outputs": [
        {
          "output_type": "execute_result",
          "data": {
            "text/plain": [
              "{'person_age': 58,\n",
              " 'person_income': 4295,\n",
              " 'person_home_ownership': 4,\n",
              " 'person_emp_length': 12,\n",
              " 'loan_intent': 6,\n",
              " 'loan_grade': 7,\n",
              " 'loan_amnt': 753,\n",
              " 'loan_int_rate': 349,\n",
              " 'loan_status': 2,\n",
              " 'loan_percent_income': 77}"
            ]
          },
          "metadata": {},
          "execution_count": 90
        }
      ]
    },
    {
      "cell_type": "code",
      "source": [
        "# Person Employee Experiance\n",
        "plt.subplot(2,4,1)\n",
        "sns.boxplot(df.iloc[:,3], color = 'green')\n",
        "plt.title(\"Boxplot - Person Employee Length\", fontsize = 10)\n",
        "\n",
        "plt.subplot(2,4,2)\n",
        "plt.hist(df.iloc[:,3], color = 'orange')\n",
        "plt.title(\"Histogram - Person Employee Length\", fontsize = 10)\n",
        "plt.subplots_adjust(left=1.4, bottom=0.1, right=4, top=1.2)\n",
        "\n",
        "print('Skewness: ')\n",
        "print(df.iloc[:,3].name,\":\", df.iloc[:,3].skew())"
      ],
      "metadata": {
        "colab": {
          "base_uri": "https://localhost:8080/",
          "height": 355
        },
        "id": "cNndprSOU2ux",
        "outputId": "f7082ed8-41b4-418d-caf3-42cbc2c3656c"
      },
      "execution_count": 91,
      "outputs": [
        {
          "output_type": "stream",
          "name": "stdout",
          "text": [
            "Skewness: \n",
            "person_emp_length : 0.308977471910724\n"
          ]
        },
        {
          "output_type": "display_data",
          "data": {
            "text/plain": [
              "<Figure size 640x480 with 2 Axes>"
            ],
            "image/png": "[encoded data removed]"
          },
          "metadata": {}
        }
      ]
    },
    {
      "cell_type": "markdown",
      "source": [
        "###### ***Multi Variate Analysis***"
      ],
      "metadata": {
        "id": "2xdAgndkgKCc"
      }
    },
    {
      "cell_type": "markdown",
      "source": [
        "CORRELATION PLOT"
      ],
      "metadata": {
        "id": "UZMnOqEsgqXn"
      }
    },
    {
      "cell_type": "code",
      "source": [
        "plt.figure(figsize = (10,8))\n",
        "corr = df.corr()\n",
        "corr.style.background_gradient(cmap='coolwarm').set_precision(2)\n",
        "#sns.heatmap(df.corr(),annot = True)\n",
        "#plt.show()"
      ],
      "metadata": {
        "colab": {
          "base_uri": "https://localhost:8080/",
          "height": 380
        },
        "id": "IbAA3bRIgxAQ",
        "outputId": "51ec8d6b-c446-413b-a48b-33e7023d5db5"
      },
      "execution_count": 92,
      "outputs": [
        {
          "output_type": "execute_result",
          "data": {
            "text/plain": [
              "<pandas.io.formats.style.Styler at 0x7f153d2a2f50>"
            ],
            "text/html": [
              "<style type=\"text/css\">\n",
              "#T_af262_row0_col0, #T_af262_row1_col1, #T_af262_row2_col2, #T_af262_row3_col3, #T_af262_row4_col4, #T_af262_row5_col5, #T_af262_row6_col6, #T_af262_row7_col7, #T_af262_row8_col8, #T_af262_row9_col9 {\n",
              "  background-color: #b40426;\n",
              "  color: #f1f1f1;\n",
              "}\n",
              "#T_af262_row0_col1 {\n",
              "  background-color: #adc9fd;\n",
              "  color: #000000;\n",
              "}\n",
              "#T_af262_row0_col2 {\n",
              "  background-color: #7295f4;\n",
              "  color: #f1f1f1;\n",
              "}\n",
              "#T_af262_row0_col3 {\n",
              "  background-color: #93b5fe;\n",
              "  color: #000000;\n",
              "}\n",
              "#T_af262_row0_col4 {\n",
              "  background-color: #5875e1;\n",
              "  color: #f1f1f1;\n",
              "}\n",
              "#T_af262_row0_col5, #T_af262_row1_col4 {\n",
              "  background-color: #4e68d8;\n",
              "  color: #f1f1f1;\n",
              "}\n",
              "#T_af262_row0_col6, #T_af262_row9_col7 {\n",
              "  background-color: #6e90f2;\n",
              "  color: #f1f1f1;\n",
              "}\n",
              "#T_af262_row0_col7, #T_af262_row4_col8 {\n",
              "  background-color: #4f69d9;\n",
              "  color: #f1f1f1;\n",
              "}\n",
              "#T_af262_row0_col8 {\n",
              "  background-color: #5b7ae5;\n",
              "  color: #f1f1f1;\n",
              "}\n",
              "#T_af262_row0_col9 {\n",
              "  background-color: #7093f3;\n",
              "  color: #f1f1f1;\n",
              "}\n",
              "#T_af262_row1_col0, #T_af262_row4_col1, #T_af262_row4_col9, #T_af262_row7_col1 {\n",
              "  background-color: #7da0f9;\n",
              "  color: #f1f1f1;\n",
              "}\n",
              "#T_af262_row1_col2 {\n",
              "  background-color: #455cce;\n",
              "  color: #f1f1f1;\n",
              "}\n",
              "#T_af262_row1_col3, #T_af262_row5_col9 {\n",
              "  background-color: #9fbfff;\n",
              "  color: #000000;\n",
              "}\n",
              "#T_af262_row1_col5 {\n",
              "  background-color: #4961d2;\n",
              "  color: #f1f1f1;\n",
              "}\n",
              "#T_af262_row1_col6 {\n",
              "  background-color: #b1cbfc;\n",
              "  color: #000000;\n",
              "}\n",
              "#T_af262_row1_col7, #T_af262_row4_col7, #T_af262_row6_col4 {\n",
              "  background-color: #4b64d5;\n",
              "  color: #f1f1f1;\n",
              "}\n",
              "#T_af262_row1_col8, #T_af262_row1_col9, #T_af262_row2_col3, #T_af262_row2_col6, #T_af262_row3_col2, #T_af262_row3_col5, #T_af262_row3_col7, #T_af262_row8_col4, #T_af262_row9_col0, #T_af262_row9_col1 {\n",
              "  background-color: #3b4cc0;\n",
              "  color: #f1f1f1;\n",
              "}\n",
              "#T_af262_row2_col0 {\n",
              "  background-color: #3d50c3;\n",
              "  color: #f1f1f1;\n",
              "}\n",
              "#T_af262_row2_col1 {\n",
              "  background-color: #465ecf;\n",
              "  color: #f1f1f1;\n",
              "}\n",
              "#T_af262_row2_col4, #T_af262_row3_col4 {\n",
              "  background-color: #506bda;\n",
              "  color: #f1f1f1;\n",
              "}\n",
              "#T_af262_row2_col5, #T_af262_row9_col5 {\n",
              "  background-color: #6f92f3;\n",
              "  color: #f1f1f1;\n",
              "}\n",
              "#T_af262_row2_col7 {\n",
              "  background-color: #7597f6;\n",
              "  color: #f1f1f1;\n",
              "}\n",
              "#T_af262_row2_col8, #T_af262_row9_col2 {\n",
              "  background-color: #a2c1ff;\n",
              "  color: #000000;\n",
              "}\n",
              "#T_af262_row2_col9 {\n",
              "  background-color: #a3c2fe;\n",
              "  color: #000000;\n",
              "}\n",
              "#T_af262_row3_col0, #T_af262_row8_col3 {\n",
              "  background-color: #6180e9;\n",
              "  color: #f1f1f1;\n",
              "}\n",
              "#T_af262_row3_col1, #T_af262_row7_col2 {\n",
              "  background-color: #a1c0ff;\n",
              "  color: #000000;\n",
              "}\n",
              "#T_af262_row3_col6 {\n",
              "  background-color: #80a3fa;\n",
              "  color: #f1f1f1;\n",
              "}\n",
              "#T_af262_row3_col8, #T_af262_row4_col5 {\n",
              "  background-color: #485fd1;\n",
              "  color: #f1f1f1;\n",
              "}\n",
              "#T_af262_row3_col9 {\n",
              "  background-color: #6c8ff1;\n",
              "  color: #f1f1f1;\n",
              "}\n",
              "#T_af262_row4_col0 {\n",
              "  background-color: #516ddb;\n",
              "  color: #f1f1f1;\n",
              "}\n",
              "#T_af262_row4_col2, #T_af262_row4_col3, #T_af262_row8_col6 {\n",
              "  background-color: #7ea1fa;\n",
              "  color: #f1f1f1;\n",
              "}\n",
              "#T_af262_row4_col6 {\n",
              "  background-color: #5d7ce6;\n",
              "  color: #f1f1f1;\n",
              "}\n",
              "#T_af262_row5_col0, #T_af262_row5_col4, #T_af262_row7_col0 {\n",
              "  background-color: #4a63d3;\n",
              "  color: #f1f1f1;\n",
              "}\n",
              "#T_af262_row5_col1 {\n",
              "  background-color: #7b9ff9;\n",
              "  color: #f1f1f1;\n",
              "}\n",
              "#T_af262_row5_col2, #T_af262_row7_col9 {\n",
              "  background-color: #9dbdff;\n",
              "  color: #000000;\n",
              "}\n",
              "#T_af262_row5_col3, #T_af262_row9_col3 {\n",
              "  background-color: #6b8df0;\n",
              "  color: #f1f1f1;\n",
              "}\n",
              "#T_af262_row5_col6 {\n",
              "  background-color: #8badfd;\n",
              "  color: #000000;\n",
              "}\n",
              "#T_af262_row5_col7, #T_af262_row7_col5 {\n",
              "  background-color: #d75445;\n",
              "  color: #f1f1f1;\n",
              "}\n",
              "#T_af262_row5_col8 {\n",
              "  background-color: #cfdaea;\n",
              "  color: #000000;\n",
              "}\n",
              "#T_af262_row6_col0, #T_af262_row8_col1 {\n",
              "  background-color: #5572df;\n",
              "  color: #f1f1f1;\n",
              "}\n",
              "#T_af262_row6_col1 {\n",
              "  background-color: #c5d6f2;\n",
              "  color: #000000;\n",
              "}\n",
              "#T_af262_row6_col2 {\n",
              "  background-color: #5673e0;\n",
              "  color: #f1f1f1;\n",
              "}\n",
              "#T_af262_row6_col3 {\n",
              "  background-color: #9abbff;\n",
              "  color: #000000;\n",
              "}\n",
              "#T_af262_row6_col5, #T_af262_row6_col7 {\n",
              "  background-color: #779af7;\n",
              "  color: #f1f1f1;\n",
              "}\n",
              "#T_af262_row6_col8 {\n",
              "  background-color: #81a4fb;\n",
              "  color: #f1f1f1;\n",
              "}\n",
              "#T_af262_row6_col9 {\n",
              "  background-color: #f7ba9f;\n",
              "  color: #000000;\n",
              "}\n",
              "#T_af262_row7_col3 {\n",
              "  background-color: #6a8bef;\n",
              "  color: #f1f1f1;\n",
              "}\n",
              "#T_af262_row7_col4, #T_af262_row9_col4 {\n",
              "  background-color: #4c66d6;\n",
              "  color: #f1f1f1;\n",
              "}\n",
              "#T_af262_row7_col6 {\n",
              "  background-color: #89acfd;\n",
              "  color: #000000;\n",
              "}\n",
              "#T_af262_row7_col8, #T_af262_row8_col5 {\n",
              "  background-color: #c1d4f4;\n",
              "  color: #000000;\n",
              "}\n",
              "#T_af262_row8_col0 {\n",
              "  background-color: #4055c8;\n",
              "  color: #f1f1f1;\n",
              "}\n",
              "#T_af262_row8_col2 {\n",
              "  background-color: #b6cefa;\n",
              "  color: #000000;\n",
              "}\n",
              "#T_af262_row8_col7 {\n",
              "  background-color: #b2ccfb;\n",
              "  color: #000000;\n",
              "}\n",
              "#T_af262_row8_col9 {\n",
              "  background-color: #dedcdb;\n",
              "  color: #000000;\n",
              "}\n",
              "#T_af262_row9_col6 {\n",
              "  background-color: #f4c5ad;\n",
              "  color: #000000;\n",
              "}\n",
              "#T_af262_row9_col8 {\n",
              "  background-color: #d2dbe8;\n",
              "  color: #000000;\n",
              "}\n",
              "</style>\n",
              "<table id=\"T_af262\" class=\"dataframe\">\n",
              "  <thead>\n",
              "    <tr>\n",
              "      <th class=\"blank level0\" >&nbsp;</th>\n",
              "      <th id=\"T_af262_level0_col0\" class=\"col_heading level0 col0\" >person_age</th>\n",
              "      <th id=\"T_af262_level0_col1\" class=\"col_heading level0 col1\" >person_income</th>\n",
              "      <th id=\"T_af262_level0_col2\" class=\"col_heading level0 col2\" >person_home_ownership</th>\n",
              "      <th id=\"T_af262_level0_col3\" class=\"col_heading level0 col3\" >person_emp_length</th>\n",
              "      <th id=\"T_af262_level0_col4\" class=\"col_heading level0 col4\" >loan_intent</th>\n",
              "      <th id=\"T_af262_level0_col5\" class=\"col_heading level0 col5\" >loan_grade</th>\n",
              "      <th id=\"T_af262_level0_col6\" class=\"col_heading level0 col6\" >loan_amnt</th>\n",
              "      <th id=\"T_af262_level0_col7\" class=\"col_heading level0 col7\" >loan_int_rate</th>\n",
              "      <th id=\"T_af262_level0_col8\" class=\"col_heading level0 col8\" >loan_status</th>\n",
              "      <th id=\"T_af262_level0_col9\" class=\"col_heading level0 col9\" >loan_percent_income</th>\n",
              "    </tr>\n",
              "  </thead>\n",
              "  <tbody>\n",
              "    <tr>\n",
              "      <th id=\"T_af262_level0_row0\" class=\"row_heading level0 row0\" >person_age</th>\n",
              "      <td id=\"T_af262_row0_col0\" class=\"data row0 col0\" >1.00</td>\n",
              "      <td id=\"T_af262_row0_col1\" class=\"data row0 col1\" >0.17</td>\n",
              "      <td id=\"T_af262_row0_col2\" class=\"data row0 col2\" >-0.03</td>\n",
              "      <td id=\"T_af262_row0_col3\" class=\"data row0 col3\" >0.08</td>\n",
              "      <td id=\"T_af262_row0_col4\" class=\"data row0 col4\" >0.04</td>\n",
              "      <td id=\"T_af262_row0_col5\" class=\"data row0 col5\" >0.01</td>\n",
              "      <td id=\"T_af262_row0_col6\" class=\"data row0 col6\" >0.05</td>\n",
              "      <td id=\"T_af262_row0_col7\" class=\"data row0 col7\" >0.01</td>\n",
              "      <td id=\"T_af262_row0_col8\" class=\"data row0 col8\" >-0.02</td>\n",
              "      <td id=\"T_af262_row0_col9\" class=\"data row0 col9\" >-0.04</td>\n",
              "    </tr>\n",
              "    <tr>\n",
              "      <th id=\"T_af262_level0_row1\" class=\"row_heading level0 row1\" >person_income</th>\n",
              "      <td id=\"T_af262_row1_col0\" class=\"data row1 col0\" >0.17</td>\n",
              "      <td id=\"T_af262_row1_col1\" class=\"data row1 col1\" >1.00</td>\n",
              "      <td id=\"T_af262_row1_col2\" class=\"data row1 col2\" >-0.20</td>\n",
              "      <td id=\"T_af262_row1_col3\" class=\"data row1 col3\" >0.13</td>\n",
              "      <td id=\"T_af262_row1_col4\" class=\"data row1 col4\" >0.00</td>\n",
              "      <td id=\"T_af262_row1_col5\" class=\"data row1 col5\" >-0.00</td>\n",
              "      <td id=\"T_af262_row1_col6\" class=\"data row1 col6\" >0.27</td>\n",
              "      <td id=\"T_af262_row1_col7\" class=\"data row1 col7\" >0.00</td>\n",
              "      <td id=\"T_af262_row1_col8\" class=\"data row1 col8\" >-0.14</td>\n",
              "      <td id=\"T_af262_row1_col9\" class=\"data row1 col9\" >-0.25</td>\n",
              "    </tr>\n",
              "    <tr>\n",
              "      <th id=\"T_af262_level0_row2\" class=\"row_heading level0 row2\" >person_home_ownership</th>\n",
              "      <td id=\"T_af262_row2_col0\" class=\"data row2 col0\" >-0.03</td>\n",
              "      <td id=\"T_af262_row2_col1\" class=\"data row2 col1\" >-0.20</td>\n",
              "      <td id=\"T_af262_row2_col2\" class=\"data row2 col2\" >1.00</td>\n",
              "      <td id=\"T_af262_row2_col3\" class=\"data row2 col3\" >-0.25</td>\n",
              "      <td id=\"T_af262_row2_col4\" class=\"data row2 col4\" >0.01</td>\n",
              "      <td id=\"T_af262_row2_col5\" class=\"data row2 col5\" >0.12</td>\n",
              "      <td id=\"T_af262_row2_col6\" class=\"data row2 col6\" >-0.13</td>\n",
              "      <td id=\"T_af262_row2_col7\" class=\"data row2 col7\" >0.13</td>\n",
              "      <td id=\"T_af262_row2_col8\" class=\"data row2 col8\" >0.21</td>\n",
              "      <td id=\"T_af262_row2_col9\" class=\"data row2 col9\" >0.14</td>\n",
              "    </tr>\n",
              "    <tr>\n",
              "      <th id=\"T_af262_level0_row3\" class=\"row_heading level0 row3\" >person_emp_length</th>\n",
              "      <td id=\"T_af262_row3_col0\" class=\"data row3 col0\" >0.08</td>\n",
              "      <td id=\"T_af262_row3_col1\" class=\"data row3 col1\" >0.13</td>\n",
              "      <td id=\"T_af262_row3_col2\" class=\"data row3 col2\" >-0.25</td>\n",
              "      <td id=\"T_af262_row3_col3\" class=\"data row3 col3\" >1.00</td>\n",
              "      <td id=\"T_af262_row3_col4\" class=\"data row3 col4\" >0.01</td>\n",
              "      <td id=\"T_af262_row3_col5\" class=\"data row3 col5\" >-0.05</td>\n",
              "      <td id=\"T_af262_row3_col6\" class=\"data row3 col6\" >0.11</td>\n",
              "      <td id=\"T_af262_row3_col7\" class=\"data row3 col7\" >-0.06</td>\n",
              "      <td id=\"T_af262_row3_col8\" class=\"data row3 col8\" >-0.09</td>\n",
              "      <td id=\"T_af262_row3_col9\" class=\"data row3 col9\" >-0.06</td>\n",
              "    </tr>\n",
              "    <tr>\n",
              "      <th id=\"T_af262_level0_row4\" class=\"row_heading level0 row4\" >loan_intent</th>\n",
              "      <td id=\"T_af262_row4_col0\" class=\"data row4 col0\" >0.04</td>\n",
              "      <td id=\"T_af262_row4_col1\" class=\"data row4 col1\" >0.00</td>\n",
              "      <td id=\"T_af262_row4_col2\" class=\"data row4 col2\" >0.01</td>\n",
              "      <td id=\"T_af262_row4_col3\" class=\"data row4 col3\" >0.01</td>\n",
              "      <td id=\"T_af262_row4_col4\" class=\"data row4 col4\" >1.00</td>\n",
              "      <td id=\"T_af262_row4_col5\" class=\"data row4 col5\" >-0.01</td>\n",
              "      <td id=\"T_af262_row4_col6\" class=\"data row4 col6\" >-0.00</td>\n",
              "      <td id=\"T_af262_row4_col7\" class=\"data row4 col7\" >-0.00</td>\n",
              "      <td id=\"T_af262_row4_col8\" class=\"data row4 col8\" >-0.07</td>\n",
              "      <td id=\"T_af262_row4_col9\" class=\"data row4 col9\" >0.00</td>\n",
              "    </tr>\n",
              "    <tr>\n",
              "      <th id=\"T_af262_level0_row5\" class=\"row_heading level0 row5\" >loan_grade</th>\n",
              "      <td id=\"T_af262_row5_col0\" class=\"data row5 col0\" >0.01</td>\n",
              "      <td id=\"T_af262_row5_col1\" class=\"data row5 col1\" >-0.00</td>\n",
              "      <td id=\"T_af262_row5_col2\" class=\"data row5 col2\" >0.12</td>\n",
              "      <td id=\"T_af262_row5_col3\" class=\"data row5 col3\" >-0.05</td>\n",
              "      <td id=\"T_af262_row5_col4\" class=\"data row5 col4\" >-0.01</td>\n",
              "      <td id=\"T_af262_row5_col5\" class=\"data row5 col5\" >1.00</td>\n",
              "      <td id=\"T_af262_row5_col6\" class=\"data row5 col6\" >0.15</td>\n",
              "      <td id=\"T_af262_row5_col7\" class=\"data row5 col7\" >0.89</td>\n",
              "      <td id=\"T_af262_row5_col8\" class=\"data row5 col8\" >0.37</td>\n",
              "      <td id=\"T_af262_row5_col9\" class=\"data row5 col9\" >0.12</td>\n",
              "    </tr>\n",
              "    <tr>\n",
              "      <th id=\"T_af262_level0_row6\" class=\"row_heading level0 row6\" >loan_amnt</th>\n",
              "      <td id=\"T_af262_row6_col0\" class=\"data row6 col0\" >0.05</td>\n",
              "      <td id=\"T_af262_row6_col1\" class=\"data row6 col1\" >0.27</td>\n",
              "      <td id=\"T_af262_row6_col2\" class=\"data row6 col2\" >-0.13</td>\n",
              "      <td id=\"T_af262_row6_col3\" class=\"data row6 col3\" >0.11</td>\n",
              "      <td id=\"T_af262_row6_col4\" class=\"data row6 col4\" >-0.00</td>\n",
              "      <td id=\"T_af262_row6_col5\" class=\"data row6 col5\" >0.15</td>\n",
              "      <td id=\"T_af262_row6_col6\" class=\"data row6 col6\" >1.00</td>\n",
              "      <td id=\"T_af262_row6_col7\" class=\"data row6 col7\" >0.14</td>\n",
              "      <td id=\"T_af262_row6_col8\" class=\"data row6 col8\" >0.11</td>\n",
              "      <td id=\"T_af262_row6_col9\" class=\"data row6 col9\" >0.57</td>\n",
              "    </tr>\n",
              "    <tr>\n",
              "      <th id=\"T_af262_level0_row7\" class=\"row_heading level0 row7\" >loan_int_rate</th>\n",
              "      <td id=\"T_af262_row7_col0\" class=\"data row7 col0\" >0.01</td>\n",
              "      <td id=\"T_af262_row7_col1\" class=\"data row7 col1\" >0.00</td>\n",
              "      <td id=\"T_af262_row7_col2\" class=\"data row7 col2\" >0.13</td>\n",
              "      <td id=\"T_af262_row7_col3\" class=\"data row7 col3\" >-0.06</td>\n",
              "      <td id=\"T_af262_row7_col4\" class=\"data row7 col4\" >-0.00</td>\n",
              "      <td id=\"T_af262_row7_col5\" class=\"data row7 col5\" >0.89</td>\n",
              "      <td id=\"T_af262_row7_col6\" class=\"data row7 col6\" >0.14</td>\n",
              "      <td id=\"T_af262_row7_col7\" class=\"data row7 col7\" >1.00</td>\n",
              "      <td id=\"T_af262_row7_col8\" class=\"data row7 col8\" >0.32</td>\n",
              "      <td id=\"T_af262_row7_col9\" class=\"data row7 col9\" >0.11</td>\n",
              "    </tr>\n",
              "    <tr>\n",
              "      <th id=\"T_af262_level0_row8\" class=\"row_heading level0 row8\" >loan_status</th>\n",
              "      <td id=\"T_af262_row8_col0\" class=\"data row8 col0\" >-0.02</td>\n",
              "      <td id=\"T_af262_row8_col1\" class=\"data row8 col1\" >-0.14</td>\n",
              "      <td id=\"T_af262_row8_col2\" class=\"data row8 col2\" >0.21</td>\n",
              "      <td id=\"T_af262_row8_col3\" class=\"data row8 col3\" >-0.09</td>\n",
              "      <td id=\"T_af262_row8_col4\" class=\"data row8 col4\" >-0.07</td>\n",
              "      <td id=\"T_af262_row8_col5\" class=\"data row8 col5\" >0.37</td>\n",
              "      <td id=\"T_af262_row8_col6\" class=\"data row8 col6\" >0.11</td>\n",
              "      <td id=\"T_af262_row8_col7\" class=\"data row8 col7\" >0.32</td>\n",
              "      <td id=\"T_af262_row8_col8\" class=\"data row8 col8\" >1.00</td>\n",
              "      <td id=\"T_af262_row8_col9\" class=\"data row8 col9\" >0.38</td>\n",
              "    </tr>\n",
              "    <tr>\n",
              "      <th id=\"T_af262_level0_row9\" class=\"row_heading level0 row9\" >loan_percent_income</th>\n",
              "      <td id=\"T_af262_row9_col0\" class=\"data row9 col0\" >-0.04</td>\n",
              "      <td id=\"T_af262_row9_col1\" class=\"data row9 col1\" >-0.25</td>\n",
              "      <td id=\"T_af262_row9_col2\" class=\"data row9 col2\" >0.14</td>\n",
              "      <td id=\"T_af262_row9_col3\" class=\"data row9 col3\" >-0.06</td>\n",
              "      <td id=\"T_af262_row9_col4\" class=\"data row9 col4\" >0.00</td>\n",
              "      <td id=\"T_af262_row9_col5\" class=\"data row9 col5\" >0.12</td>\n",
              "      <td id=\"T_af262_row9_col6\" class=\"data row9 col6\" >0.57</td>\n",
              "      <td id=\"T_af262_row9_col7\" class=\"data row9 col7\" >0.11</td>\n",
              "      <td id=\"T_af262_row9_col8\" class=\"data row9 col8\" >0.38</td>\n",
              "      <td id=\"T_af262_row9_col9\" class=\"data row9 col9\" >1.00</td>\n",
              "    </tr>\n",
              "  </tbody>\n",
              "</table>\n"
            ]
          },
          "metadata": {},
          "execution_count": 92
        },
        {
          "output_type": "display_data",
          "data": {
            "text/plain": [
              "<Figure size 1000x800 with 0 Axes>"
            ]
          },
          "metadata": {}
        }
      ]
    },
    {
      "cell_type": "markdown",
      "source": [
        "**@ Data Modelling**"
      ],
      "metadata": {
        "id": "2jvyK5FZlcvW"
      }
    },
    {
      "cell_type": "code",
      "source": [
        "# Separation of Dependent Variable and Independent Variables.\n",
        "\n",
        "X = df.loc[:,df.columns != 'loan_status']\n",
        "Y = df.loc[:,df.columns == 'loan_status']"
      ],
      "metadata": {
        "id": "83FAvuaPlcFe"
      },
      "execution_count": 94,
      "outputs": []
    },
    {
      "cell_type": "code",
      "source": [
        "# Train and Test Data Split with the ratio of 80% : 20%\n",
        "\n",
        "from sklearn.model_selection import train_test_split\n",
        "x_train, x_test, y_train, y_test = train_test_split(X, Y, train_size = 0.8, random_state = 42)\n",
        "\n",
        "print('x_train shape :', x_train.shape)\n",
        "print('x_test shape :', x_test.shape)\n",
        "print('y_train shape :', y_train.shape)\n",
        "print('y_test shape :', y_test.shape)"
      ],
      "metadata": {
        "colab": {
          "base_uri": "https://localhost:8080/",
          "height": 0
        },
        "id": "kIScdYODmOch",
        "outputId": "4d4fdad8-a9dc-4ec1-e78c-238da30358bc"
      },
      "execution_count": 97,
      "outputs": [
        {
          "output_type": "stream",
          "name": "stdout",
          "text": [
            "x_train shape : (26064, 9)\n",
            "x_test shape : (6517, 9)\n",
            "y_train shape : (26064, 1)\n",
            "y_test shape : (6517, 1)\n"
          ]
        }
      ]
    },
    {
      "cell_type": "code",
      "source": [
        "# Model Fitting in the Algorithm\n",
        "\n",
        "model = LogisticRegression(C=0.01, penalty='l1', solver='liblinear')\n",
        "model.fit(x_train, y_train)"
      ],
      "metadata": {
        "colab": {
          "base_uri": "https://localhost:8080/",
          "height": 74
        },
        "id": "xjCmXkb5mwWV",
        "outputId": "93622e35-089b-495d-a740-fc31af03e087"
      },
      "execution_count": 110,
      "outputs": [
        {
          "output_type": "execute_result",
          "data": {
            "text/plain": [
              "LogisticRegression(C=0.01, penalty='l1', solver='liblinear')"
            ],
            "text/html": [
              "<style>#sk-container-id-2 {color: black;background-color: white;}#sk-container-id-2 pre{padding: 0;}#sk-container-id-2 div.sk-toggleable {background-color: white;}#sk-container-id-2 label.sk-toggleable__label {cursor: pointer;display: block;width: 100%;margin-bottom: 0;padding: 0.3em;box-sizing: border-box;text-align: center;}#sk-container-id-2 label.sk-toggleable__label-arrow:before {content: \"▸\";float: left;margin-right: 0.25em;color: #696969;}#sk-container-id-2 label.sk-toggleable__label-arrow:hover:before {color: black;}#sk-container-id-2 div.sk-estimator:hover label.sk-toggleable__label-arrow:before {color: black;}#sk-container-id-2 div.sk-toggleable__content {max-height: 0;max-width: 0;overflow: hidden;text-align: left;background-color: #f0f8ff;}#sk-container-id-2 div.sk-toggleable__content pre {margin: 0.2em;color: black;border-radius: 0.25em;background-color: #f0f8ff;}#sk-container-id-2 input.sk-toggleable__control:checked~div.sk-toggleable__content {max-height: 200px;max-width: 100%;overflow: auto;}#sk-container-id-2 input.sk-toggleable__control:checked~label.sk-toggleable__label-arrow:before {content: \"▾\";}#sk-container-id-2 div.sk-estimator input.sk-toggleable__control:checked~label.sk-toggleable__label {background-color: #d4ebff;}#sk-container-id-2 div.sk-label input.sk-toggleable__control:checked~label.sk-toggleable__label {background-color: #d4ebff;}#sk-container-id-2 input.sk-hidden--visually {border: 0;clip: rect(1px 1px 1px 1px);clip: rect(1px, 1px, 1px, 1px);height: 1px;margin: -1px;overflow: hidden;padding: 0;position: absolute;width: 1px;}#sk-container-id-2 div.sk-estimator {font-family: monospace;background-color: #f0f8ff;border: 1px dotted black;border-radius: 0.25em;box-sizing: border-box;margin-bottom: 0.5em;}#sk-container-id-2 div.sk-estimator:hover {background-color: #d4ebff;}#sk-container-id-2 div.sk-parallel-item::after {content: \"\";width: 100%;border-bottom: 1px solid gray;flex-grow: 1;}#sk-container-id-2 div.sk-label:hover label.sk-toggleable__label {background-color: #d4ebff;}#sk-container-id-2 div.sk-serial::before {content: \"\";position: absolute;border-left: 1px solid gray;box-sizing: border-box;top: 0;bottom: 0;left: 50%;z-index: 0;}#sk-container-id-2 div.sk-serial {display: flex;flex-direction: column;align-items: center;background-color: white;padding-right: 0.2em;padding-left: 0.2em;position: relative;}#sk-container-id-2 div.sk-item {position: relative;z-index: 1;}#sk-container-id-2 div.sk-parallel {display: flex;align-items: stretch;justify-content: center;background-color: white;position: relative;}#sk-container-id-2 div.sk-item::before, #sk-container-id-2 div.sk-parallel-item::before {content: \"\";position: absolute;border-left: 1px solid gray;box-sizing: border-box;top: 0;bottom: 0;left: 50%;z-index: -1;}#sk-container-id-2 div.sk-parallel-item {display: flex;flex-direction: column;z-index: 1;position: relative;background-color: white;}#sk-container-id-2 div.sk-parallel-item:first-child::after {align-self: flex-end;width: 50%;}#sk-container-id-2 div.sk-parallel-item:last-child::after {align-self: flex-start;width: 50%;}#sk-container-id-2 div.sk-parallel-item:only-child::after {width: 0;}#sk-container-id-2 div.sk-dashed-wrapped {border: 1px dashed gray;margin: 0 0.4em 0.5em 0.4em;box-sizing: border-box;padding-bottom: 0.4em;background-color: white;}#sk-container-id-2 div.sk-label label {font-family: monospace;font-weight: bold;display: inline-block;line-height: 1.2em;}#sk-container-id-2 div.sk-label-container {text-align: center;}#sk-container-id-2 div.sk-container {/* jupyter's `normalize.less` sets `[hidden] { display: none; }` but bootstrap.min.css set `[hidden] { display: none !important; }` so we also need the `!important` here to be able to override the default hidden behavior on the sphinx rendered scikit-learn.org. See: https://github.com/scikit-learn/scikit-learn/issues/21755 */display: inline-block !important;position: relative;}#sk-container-id-2 div.sk-text-repr-fallback {display: none;}</style><div id=\"sk-container-id-2\" class=\"sk-top-container\"><div class=\"sk-text-repr-fallback\"><pre>LogisticRegression(C=0.01, penalty=&#x27;l1&#x27;, solver=&#x27;liblinear&#x27;)</pre><b>In a Jupyter environment, please rerun this cell to show the HTML representation or trust the notebook. <br />On GitHub, the HTML representation is unable to render, please try loading this page with nbviewer.org.</b></div><div class=\"sk-container\" hidden><div class=\"sk-item\"><div class=\"sk-estimator sk-toggleable\"><input class=\"sk-toggleable__control sk-hidden--visually\" id=\"sk-estimator-id-2\" type=\"checkbox\" checked><label for=\"sk-estimator-id-2\" class=\"sk-toggleable__label sk-toggleable__label-arrow\">LogisticRegression</label><div class=\"sk-toggleable__content\"><pre>LogisticRegression(C=0.01, penalty=&#x27;l1&#x27;, solver=&#x27;liblinear&#x27;)</pre></div></div></div></div></div>"
            ]
          },
          "metadata": {},
          "execution_count": 110
        }
      ]
    },
    {
      "cell_type": "code",
      "source": [
        "# Train and Test Accuracy \n",
        "\n",
        "print(\"Showing Performance Metrics for Logistic Regression\\n\")\n",
        "\n",
        "print (\"Training Accuracy: {}\".format(model.score(x_train, y_train)))\n",
        "predicted = model.predict(x_test)\n",
        "print (\"Testing Accuracy: {}\".format(accuracy_score(y_test, predicted)))"
      ],
      "metadata": {
        "colab": {
          "base_uri": "https://localhost:8080/",
          "height": 0
        },
        "id": "Q_-ms09BXMAB",
        "outputId": "2a8f597d-e97d-457c-ad63-d8e9059f1b75"
      },
      "execution_count": 103,
      "outputs": [
        {
          "output_type": "stream",
          "name": "stdout",
          "text": [
            "Showing Performance Metrics for Logistic Regression\n",
            "\n",
            "Training Accuracy: 0.8360190300798036\n",
            "Testing Accuracy: 0.8287555623753261\n"
          ]
        }
      ]
    },
    {
      "cell_type": "code",
      "source": [
        "# Confusion Matrix \n",
        "\n",
        "labels = [0, 1]\n",
        "cm = confusion_matrix(y_test, predicted, labels=labels)\n",
        "print(cm)"
      ],
      "metadata": {
        "colab": {
          "base_uri": "https://localhost:8080/",
          "height": 0
        },
        "id": "0OsrFEtBnlKy",
        "outputId": "5348f19e-c07e-4110-d07e-190a4d9f4a40"
      },
      "execution_count": 143,
      "outputs": [
        {
          "output_type": "stream",
          "name": "stdout",
          "text": [
            "[[4834  238]\n",
            " [ 878  567]]\n"
          ]
        }
      ]
    },
    {
      "cell_type": "markdown",
      "source": [
        "1. Precision: Percentage of correct positive predictions relative to total positive predictions.\n",
        "\n",
        "2. Recall: Percentage of correct positive predictions relative to total actual positives.\n",
        "\n",
        "3. F1 Score: A weighted harmonic mean of precision and recall. The closer to 1, the better the model.\n",
        "\n",
        "F1 Score: 2 * (Precision * Recall) / (Precision + Recall)"
      ],
      "metadata": {
        "id": "Sgqe9FdCts9Q"
      }
    },
    {
      "cell_type": "code",
      "source": [
        "# Precision, Recall & F1 Scores.\n",
        "\n",
        "print('Precision, Recall and f-1 Scores for Logistic Regression\\n')\n",
        "print(classification_report(y_test, predicted))"
      ],
      "metadata": {
        "colab": {
          "base_uri": "https://localhost:8080/",
          "height": 0
        },
        "id": "NBQKPGLYnnzC",
        "outputId": "47e536ad-d2cf-49ce-eae8-a5de0855fbb8"
      },
      "execution_count": 125,
      "outputs": [
        {
          "output_type": "stream",
          "name": "stdout",
          "text": [
            "Precision, Recall and f-1 Scores for Logistic Regression\n",
            "\n",
            "              precision    recall  f1-score   support\n",
            "\n",
            "           0       0.85      0.95      0.90      5072\n",
            "           1       0.70      0.39      0.50      1445\n",
            "\n",
            "    accuracy                           0.83      6517\n",
            "   macro avg       0.78      0.67      0.70      6517\n",
            "weighted avg       0.81      0.83      0.81      6517\n",
            "\n"
          ]
        }
      ]
    },
    {
      "cell_type": "markdown",
      "source": [
        "The AUROC is a way to measure how robust your model is across decision thresholds. It is the area under the plot of the true positive rate versus the false positive rate. The true positive rate (TPR) is (true positives)/(true positives + false negatives). The false positive rate is the (false positive)/(false positive + true negative)"
      ],
      "metadata": {
        "id": "YjdEWufKtRJY"
      }
    },
    {
      "cell_type": "code",
      "source": [
        "# AUROC [Area Under Receiver-Operator Curve]\n",
        "\n",
        "y_pred_proba = model.predict_proba(np.array(x_test))[:,1]\n",
        "fpr, tpr, thresholds = roc_curve(y_test, y_pred_proba)\n",
        "\n",
        "sns.set()\n",
        "plt.plot(fpr, tpr)\n",
        "plt.plot(fpr, fpr, linestyle = '--', color = 'k')\n",
        "plt.xlabel('False positive rate')\n",
        "plt.ylabel('True positive rate')\n",
        "ROC = np.round(roc_auc_score(y_test, y_pred_proba), 2)\n",
        "plt.title(f'Logistic Regression Model ROC curve; ROC: {ROC}');\n",
        "plt.show()"
      ],
      "metadata": {
        "colab": {
          "base_uri": "https://localhost:8080/",
          "height": 480
        },
        "id": "emapA2AwsHZF",
        "outputId": "8b95b9ab-2a22-427c-d7a8-c7c0ec9bf96a"
      },
      "execution_count": 151,
      "outputs": [
        {
          "output_type": "display_data",
          "data": {
            "text/plain": [
              "<Figure size 640x480 with 1 Axes>"
            ],
            "image/png": "[encoded data removed]"
          },
          "metadata": {}
        }
      ]
    },
    {
      "cell_type": "markdown",
      "source": [
        "***As per the Loan Defaulter Classification result, We got 83% Test Accuracy to define the test results. So, our results for the predictions are Approximately 83% Accurate as per the data.***"
      ],
      "metadata": {
        "id": "2HwJpM-zuczp"
      }
    }
  ]
}